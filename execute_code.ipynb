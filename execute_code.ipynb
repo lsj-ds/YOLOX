{
 "cells": [
  {
   "cell_type": "markdown",
   "id": "3a4064b1",
   "metadata": {},
   "source": [
    "## Train - compose Trainset"
   ]
  },
  {
   "cell_type": "code",
   "execution_count": null,
   "id": "901838ae",
   "metadata": {},
   "outputs": [],
   "source": [
    "from compose_trainset import *\n",
    "\n",
    "### compose trainset\n",
    "### raw image, label > 모델에 맞게 label 수정, train/valid/test set 분할 등\n",
    "compose_trainset()\n",
    "\n",
    "### execute trainning \n",
    "# python tools/train.py -c configs/yolox/yolox_person.yml --eval "
   ]
  },
  {
   "cell_type": "markdown",
   "id": "7274b240",
   "metadata": {},
   "source": [
    "## inference"
   ]
  },
  {
   "cell_type": "code",
   "execution_count": null,
   "id": "e11993ba",
   "metadata": {},
   "outputs": [],
   "source": [
    "from inference import *\n",
    "\n",
    "### model weight \n",
    "yml_fnm = 'yolox_person.yml' \n",
    "\n",
    "### inference Bbox and save dataframe of predict Bbox info\n",
    "df = get_inference_result(yml_fnm) "
   ]
  },
  {
   "cell_type": "markdown",
   "id": "8a43843d",
   "metadata": {},
   "source": [
    "## evaluate"
   ]
  },
  {
   "cell_type": "code",
   "execution_count": null,
   "id": "8889258b",
   "metadata": {},
   "outputs": [],
   "source": [
    "from evaluate import *\n",
    "\n",
    "### merge - Ground Truth Bbox, Predict Bbox information\n",
    "bbox_df = make_bbox_df() \n",
    "\n",
    "### evaluation\n",
    "count_thresh =0.6  # iou_score_threshold\n",
    "dff = make_final_df(bbox_df, count_thresh)\n",
    "calculate_gt(dff) # evaluate TP(True Positive, gt +0,-1)\n",
    "calculate_accuray(dff) # evaluate - accuracy\n",
    "\n",
    "### save image - Ground Truth bbox, Predict Bbox\n",
    "save_result(dff)"
   ]
  },
  {
   "cell_type": "code",
   "execution_count": null,
   "id": "9f0ad6e6",
   "metadata": {},
   "outputs": [],
   "source": []
  }
 ],
 "metadata": {
  "kernelspec": {
   "display_name": "yolox3",
   "language": "python",
   "name": "yolox3"
  },
  "language_info": {
   "codemirror_mode": {
    "name": "ipython",
    "version": 3
   },
   "file_extension": ".py",
   "mimetype": "text/x-python",
   "name": "python",
   "nbconvert_exporter": "python",
   "pygments_lexer": "ipython3",
   "version": "3.8.19"
  }
 },
 "nbformat": 4,
 "nbformat_minor": 5
}
